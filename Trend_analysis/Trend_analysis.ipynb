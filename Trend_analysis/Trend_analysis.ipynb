{
 "cells": [
  {
   "cell_type": "markdown",
   "id": "f36033d8-1bd9-40bd-9d2b-264bd939f438",
   "metadata": {},
   "source": [
    "<h2 style=\"color:red;\" > How can we determine support and resistance lines</h2>"
   ]
  },
  {
   "cell_type": "code",
   "execution_count": 1,
   "id": "e02f77b1-70de-4d5d-92cb-92628b9056f5",
   "metadata": {},
   "outputs": [],
   "source": [
    "#first we need to a close price list"
   ]
  },
  {
   "cell_type": "code",
   "execution_count": null,
   "id": "ca7008be-632b-43cc-ae3e-e01e0fbaf6f5",
   "metadata": {},
   "outputs": [],
   "source": []
  }
 ],
 "metadata": {
  "kernelspec": {
   "display_name": "Python 3 (ipykernel)",
   "language": "python",
   "name": "python3"
  },
  "language_info": {
   "codemirror_mode": {
    "name": "ipython",
    "version": 3
   },
   "file_extension": ".py",
   "mimetype": "text/x-python",
   "name": "python",
   "nbconvert_exporter": "python",
   "pygments_lexer": "ipython3",
   "version": "3.8.10"
  }
 },
 "nbformat": 4,
 "nbformat_minor": 5
}
